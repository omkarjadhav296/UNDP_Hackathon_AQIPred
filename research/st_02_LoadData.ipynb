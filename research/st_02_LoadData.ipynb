{
 "cells": [
  {
   "cell_type": "code",
   "execution_count": 14,
   "metadata": {},
   "outputs": [
    {
     "name": "stdout",
     "output_type": "stream",
     "text": [
      "Reading file: \n",
      "\n",
      " vayu_Gurugram_static_sensor_data_July_2024.csv\n",
      "       id device_name        lat       long  pm_25  pm_10     no2    co  co2  \\\n",
      "0  292755     TARA054  28.394264  77.030457   51.9   70.2  2001.0  0.95  NaN   \n",
      "1  292761     TARA054  28.394264  77.030457   51.9   70.2  2002.2  0.95  NaN   \n",
      "2  292762     TARA044  28.440115  77.035553   63.5   85.9     0.0  1.60  NaN   \n",
      "3  292767     TARA054  28.394264  77.030457   51.9   70.2  2002.0  0.94  NaN   \n",
      "4  292768     TARA044  28.440115  77.035553   63.5   85.9     0.0  0.94  NaN   \n",
      "\n",
      "   ch4  temp    rh          data_created_time  \n",
      "0  NaN  33.7  63.0  2024-07-01 00:00:00+00:00  \n",
      "1  NaN  33.7  63.0  2024-07-01 00:01:00+00:00  \n",
      "2  NaN  34.6  60.0  2024-07-01 00:00:00+00:00  \n",
      "3  NaN  33.7  64.0  2024-07-01 00:02:00+00:00  \n",
      "4  NaN  34.5  60.0  2024-07-01 00:01:00+00:00  \n"
     ]
    }
   ],
   "source": [
    "\n",
    "from ast import List\n",
    "import os\n",
    "import pandas as pd\n",
    "\n",
    "# Get list of all CSV files in Gurugram_static folder\n",
    "csv_files = [f for f in os.listdir('../data/Gurugram_Static') if f.endswith('.csv')]\n",
    "\n",
    "\n",
    "# Get first CSV file from the list\n",
    "first_file = csv_files[2]\n",
    "print(f\"Reading file: \\n\\n {first_file}\")\n",
    "\n",
    "# Read the CSV file into a dataframe\n",
    "df = pd.read_csv(f'../data/Gurugram_Static/{first_file}')\n",
    "\n",
    "# Display first few rows of the dataframe\n",
    "print(df.head())"
   ]
  },
  {
   "cell_type": "code",
   "execution_count": 15,
   "metadata": {},
   "outputs": [
    {
     "name": "stdout",
     "output_type": "stream",
     "text": [
      "Combined CSV file created successfully.\n"
     ]
    }
   ],
   "source": [
    "# List to hold dataframes\n",
    "dfs = []\n",
    "\n",
    "# Loop through each file in the csv_files list\n",
    "for file in csv_files:\n",
    "  # Read the CSV file into a dataframe\n",
    "  df = pd.read_csv(f'../data/Gurugram_Static/{file}')\n",
    "  # Append the dataframe to the list\n",
    "  dfs.append(df)\n",
    "\n",
    "# Concatenate all dataframes in the list\n",
    "combined_df = pd.concat(dfs, ignore_index=True)\n",
    "\n",
    "# Save the combined dataframe to a new CSV file\n",
    "# Check if Combine folder exists, if not create it\n",
    "import os\n",
    "\n",
    "if not os.path.exists('../data/Gurugram_Static/Combine'):\n",
    "    os.makedirs('../data/Gurugram_Static/Combine')\n",
    "\n",
    "combined_df.to_csv('../data/Gurugram_Static/Combine/combined_data.csv', index=True)\n",
    "\n",
    "print(\"Combined CSV file created successfully.\")"
   ]
  },
  {
   "cell_type": "code",
   "execution_count": null,
   "metadata": {},
   "outputs": [
    {
     "data": {
      "text/plain": [
       "7915360"
      ]
     },
     "execution_count": 10,
     "metadata": {},
     "output_type": "execute_result"
    }
   ],
   "source": [
    "Combined_df = pd.read_csv('../data/Gurugram_Static/Combine/combined_data.csv')\n",
    "\n",
    "# Combined_df.head()\n",
    "# Get total number of records in the dataframe\n",
    "# len(Combined_df)"
   ]
  },
  {
   "cell_type": "code",
   "execution_count": null,
   "metadata": {},
   "outputs": [
    {
     "data": {
      "text/html": [
       "<div>\n",
       "<style scoped>\n",
       "    .dataframe tbody tr th:only-of-type {\n",
       "        vertical-align: middle;\n",
       "    }\n",
       "\n",
       "    .dataframe tbody tr th {\n",
       "        vertical-align: top;\n",
       "    }\n",
       "\n",
       "    .dataframe thead th {\n",
       "        text-align: right;\n",
       "    }\n",
       "</style>\n",
       "<table border=\"1\" class=\"dataframe\">\n",
       "  <thead>\n",
       "    <tr style=\"text-align: right;\">\n",
       "      <th></th>\n",
       "      <th>Unnamed: 0.1</th>\n",
       "      <th>Unnamed: 0</th>\n",
       "      <th>id</th>\n",
       "      <th>device_name</th>\n",
       "      <th>lat</th>\n",
       "      <th>long</th>\n",
       "      <th>PM_25</th>\n",
       "      <th>PM_10</th>\n",
       "      <th>NO2</th>\n",
       "      <th>CO</th>\n",
       "      <th>CO2</th>\n",
       "      <th>CH4</th>\n",
       "      <th>TEMP</th>\n",
       "      <th>RH</th>\n",
       "      <th>datetime</th>\n",
       "    </tr>\n",
       "  </thead>\n",
       "  <tbody>\n",
       "    <tr>\n",
       "      <th>0</th>\n",
       "      <td>0</td>\n",
       "      <td>0.0</td>\n",
       "      <td>1394757</td>\n",
       "      <td>TARA046</td>\n",
       "      <td>28.503763</td>\n",
       "      <td>77.007607</td>\n",
       "      <td>10.7</td>\n",
       "      <td>14.5</td>\n",
       "      <td>19.67</td>\n",
       "      <td>0.05</td>\n",
       "      <td>NaN</td>\n",
       "      <td>NaN</td>\n",
       "      <td>33.8</td>\n",
       "      <td>61.0</td>\n",
       "      <td>2024-08-01 00:00:00+00:00</td>\n",
       "    </tr>\n",
       "    <tr>\n",
       "      <th>1</th>\n",
       "      <td>1</td>\n",
       "      <td>1.0</td>\n",
       "      <td>1394772</td>\n",
       "      <td>TARA020</td>\n",
       "      <td>28.465345</td>\n",
       "      <td>77.053970</td>\n",
       "      <td>7.8</td>\n",
       "      <td>10.6</td>\n",
       "      <td>58.43</td>\n",
       "      <td>0.93</td>\n",
       "      <td>NaN</td>\n",
       "      <td>NaN</td>\n",
       "      <td>29.3</td>\n",
       "      <td>80.0</td>\n",
       "      <td>2024-08-01 00:00:00+00:00</td>\n",
       "    </tr>\n",
       "    <tr>\n",
       "      <th>2</th>\n",
       "      <td>2</td>\n",
       "      <td>2.0</td>\n",
       "      <td>1394777</td>\n",
       "      <td>TARA045</td>\n",
       "      <td>28.498831</td>\n",
       "      <td>77.088463</td>\n",
       "      <td>9.4</td>\n",
       "      <td>12.7</td>\n",
       "      <td>58.60</td>\n",
       "      <td>1.02</td>\n",
       "      <td>NaN</td>\n",
       "      <td>NaN</td>\n",
       "      <td>31.1</td>\n",
       "      <td>70.0</td>\n",
       "      <td>2024-08-01 00:00:00+00:00</td>\n",
       "    </tr>\n",
       "    <tr>\n",
       "      <th>3</th>\n",
       "      <td>3</td>\n",
       "      <td>3.0</td>\n",
       "      <td>1394778</td>\n",
       "      <td>TARA023</td>\n",
       "      <td>28.446369</td>\n",
       "      <td>77.100067</td>\n",
       "      <td>7.6</td>\n",
       "      <td>10.3</td>\n",
       "      <td>20.77</td>\n",
       "      <td>0.93</td>\n",
       "      <td>NaN</td>\n",
       "      <td>NaN</td>\n",
       "      <td>31.1</td>\n",
       "      <td>70.0</td>\n",
       "      <td>2024-08-01 00:00:00+00:00</td>\n",
       "    </tr>\n",
       "    <tr>\n",
       "      <th>4</th>\n",
       "      <td>4</td>\n",
       "      <td>4.0</td>\n",
       "      <td>1394779</td>\n",
       "      <td>TARA024</td>\n",
       "      <td>NaN</td>\n",
       "      <td>NaN</td>\n",
       "      <td>8.4</td>\n",
       "      <td>11.4</td>\n",
       "      <td>16.53</td>\n",
       "      <td>0.91</td>\n",
       "      <td>NaN</td>\n",
       "      <td>NaN</td>\n",
       "      <td>30.6</td>\n",
       "      <td>75.0</td>\n",
       "      <td>2024-08-01 00:00:00+00:00</td>\n",
       "    </tr>\n",
       "  </tbody>\n",
       "</table>\n",
       "</div>"
      ],
      "text/plain": [
       "   Unnamed: 0.1  Unnamed: 0       id device_name        lat       long  PM_25  \\\n",
       "0             0         0.0  1394757     TARA046  28.503763  77.007607   10.7   \n",
       "1             1         1.0  1394772     TARA020  28.465345  77.053970    7.8   \n",
       "2             2         2.0  1394777     TARA045  28.498831  77.088463    9.4   \n",
       "3             3         3.0  1394778     TARA023  28.446369  77.100067    7.6   \n",
       "4             4         4.0  1394779     TARA024        NaN        NaN    8.4   \n",
       "\n",
       "   PM_10    NO2    CO  CO2  CH4  TEMP    RH                   datetime  \n",
       "0   14.5  19.67  0.05  NaN  NaN  33.8  61.0  2024-08-01 00:00:00+00:00  \n",
       "1   10.6  58.43  0.93  NaN  NaN  29.3  80.0  2024-08-01 00:00:00+00:00  \n",
       "2   12.7  58.60  1.02  NaN  NaN  31.1  70.0  2024-08-01 00:00:00+00:00  \n",
       "3   10.3  20.77  0.93  NaN  NaN  31.1  70.0  2024-08-01 00:00:00+00:00  \n",
       "4   11.4  16.53  0.91  NaN  NaN  30.6  75.0  2024-08-01 00:00:00+00:00  "
      ]
     },
     "execution_count": 11,
     "metadata": {},
     "output_type": "execute_result"
    }
   ],
   "source": [
    "# Rename Columns.\n",
    "Combined_df= Combined_df.rename(columns={'pm_25':'PM_25','pm_10':'PM_10', 'no2':'NO2', 'co':'CO', 'co2':'CO2', 'ch4':'CH4', 'temp':'TEMP', 'rh':'RH', 'data_created_time':'datetime'})\n",
    "\n",
    "Combined_df.head()"
   ]
  },
  {
   "cell_type": "code",
   "execution_count": 12,
   "metadata": {},
   "outputs": [
    {
     "name": "stderr",
     "output_type": "stream",
     "text": [
      "C:\\Users\\ADMIN\\AppData\\Local\\Temp\\ipykernel_9424\\2050447038.py:8: FutureWarning: Indexing with multiple keys (implicitly converted to a tuple of keys) will be deprecated, use a list instead.\n",
      "  hourly_data = Combined_df.groupby('hour')['PM_25','PM_10','NO2','CO','CO2','CH4','TEMP','RH'].mean().reset_index()\n"
     ]
    },
    {
     "name": "stdout",
     "output_type": "stream",
     "text": [
      "Hourly Data:\n",
      "                   hour      PM_25       PM_10         NO2        CO  \\\n",
      "0  2024-07-01 00:00:00  68.251908   91.715267  460.938550  0.943468   \n",
      "1  2024-07-01 01:00:00  85.198491  115.347547  466.071698  0.896257   \n",
      "2  2024-07-01 02:00:00  65.933607   88.376639  580.608134  0.872784   \n",
      "3  2024-07-01 03:00:00  79.784375  107.911607  537.203929  0.860178   \n",
      "4  2024-07-01 04:00:00  68.017371   91.890141  567.042911  0.754302   \n",
      "5  2024-07-01 05:00:00  60.860766   82.260766  578.799904  0.806180   \n",
      "6  2024-07-01 06:00:00  51.431250   69.510937  485.265000  0.751667   \n",
      "7  2024-07-01 07:00:00  43.924265   59.655515  454.660331  0.712735   \n",
      "8  2024-07-01 08:00:00  60.429856  124.657914  445.821079  0.896555   \n",
      "9  2024-07-01 09:00:00  54.857621   80.421190  454.649814  1.019004   \n",
      "\n",
      "          CO2           CH4       TEMP         RH  \n",
      "0  552.088235  1.597163e+06  34.719084  60.854962  \n",
      "1  560.468750  1.436253e+06  34.703019  61.101887  \n",
      "2  563.333333  1.537333e+06  34.506148  61.016393  \n",
      "3  548.972222  1.509533e+06  34.010268  62.897321  \n",
      "4  547.378378  1.446136e+06  33.814554  62.455399  \n",
      "5  549.967742           NaN  33.430622  63.311005  \n",
      "6  541.666667           NaN  32.678516  65.203125  \n",
      "7  531.447368           NaN  33.387132  61.761029  \n",
      "8  526.975000           NaN  34.520504  57.532374  \n",
      "9  536.868421           NaN  34.905204  56.970260  \n"
     ]
    }
   ],
   "source": [
    "# Convert timestamp to datetime format\n",
    "Combined_df['datetime'] = pd.to_datetime(Combined_df['datetime'])\n",
    "\n",
    "# Extract hourly time format\n",
    "Combined_df['hour'] = Combined_df['datetime'].dt.strftime('%Y-%m-%d %H:00:00')\n",
    "\n",
    "# Group by hourly intervals and compute mean values of parameters\n",
    "hourly_data = Combined_df.groupby('hour')['PM_25','PM_10','NO2','CO','CO2','CH4','TEMP','RH'].mean().reset_index()\n",
    "\n",
    "print(\"Hourly Data:\\n\", hourly_data.head(10)) "
   ]
  },
  {
   "cell_type": "code",
   "execution_count": 16,
   "metadata": {},
   "outputs": [],
   "source": [
    "# Save the hourly data to a csv file\n",
    "hourly_data.to_csv('../data/Gurugram_Static/Combine/CombinedHourly_Data.csv', index = False)"
   ]
  },
  {
   "cell_type": "code",
   "execution_count": null,
   "metadata": {},
   "outputs": [],
   "source": []
  }
 ],
 "metadata": {
  "kernelspec": {
   "display_name": "tf",
   "language": "python",
   "name": "python3"
  },
  "language_info": {
   "codemirror_mode": {
    "name": "ipython",
    "version": 3
   },
   "file_extension": ".py",
   "mimetype": "text/x-python",
   "name": "python",
   "nbconvert_exporter": "python",
   "pygments_lexer": "ipython3",
   "version": "3.9.12"
  }
 },
 "nbformat": 4,
 "nbformat_minor": 2
}
